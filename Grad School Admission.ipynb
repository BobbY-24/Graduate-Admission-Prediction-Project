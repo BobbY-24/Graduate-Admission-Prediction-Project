{
 "cells": [
  {
   "cell_type": "code",
   "id": "initial_id",
   "metadata": {
    "collapsed": true,
    "ExecuteTime": {
     "end_time": "2025-08-19T17:10:15.268593Z",
     "start_time": "2025-08-19T17:10:15.129274Z"
    }
   },
   "source": [
    "# Importing Initial Libraries\n",
    "\n",
    "\n",
    "import pandas as pd\n",
    "import matplotlib.pyplot as plt\n",
    "import numpy as np\n",
    "\n",
    "import seaborn as sns\n",
    "import sklearn\n",
    "from sklearn.preprocessing import StandardScaler\n",
    "from sklearn.decomposition import PCA\n",
    "from sklearn.model_selection import train_test_split\n",
    "# importing Libraries\n"
   ],
   "outputs": [],
   "execution_count": 1
  },
  {
   "metadata": {
    "ExecuteTime": {
     "end_time": "2025-08-19T17:10:46.588975Z",
     "start_time": "2025-08-19T17:10:46.560660Z"
    }
   },
   "cell_type": "code",
   "source": "df = pd.read_csv('/Users/bobyan/Desktop/Kaggle Datasets/admission_data.csv')",
   "id": "ccc2d1a3741716e9",
   "outputs": [],
   "execution_count": 3
  },
  {
   "metadata": {
    "ExecuteTime": {
     "end_time": "2025-08-19T17:10:55.648177Z",
     "start_time": "2025-08-19T17:10:55.616581Z"
    }
   },
   "cell_type": "code",
   "source": "df.describe()",
   "id": "b58a56e73dd73142",
   "outputs": [
    {
     "data": {
      "text/plain": [
       "        GRE Score  TOEFL Score  University Rating         SOP       LOR   \\\n",
       "count  500.000000   500.000000         500.000000  500.000000  500.00000   \n",
       "mean   316.472000   107.192000           3.114000    3.374000    3.48400   \n",
       "std     11.295148     6.081868           1.143512    0.991004    0.92545   \n",
       "min    290.000000    92.000000           1.000000    1.000000    1.00000   \n",
       "25%    308.000000   103.000000           2.000000    2.500000    3.00000   \n",
       "50%    317.000000   107.000000           3.000000    3.500000    3.50000   \n",
       "75%    325.000000   112.000000           4.000000    4.000000    4.00000   \n",
       "max    340.000000   120.000000           5.000000    5.000000    5.00000   \n",
       "\n",
       "             CGPA    Research  Chance of Admit   \n",
       "count  500.000000  500.000000         500.00000  \n",
       "mean     8.576440    0.560000           0.72174  \n",
       "std      0.604813    0.496884           0.14114  \n",
       "min      6.800000    0.000000           0.34000  \n",
       "25%      8.127500    0.000000           0.63000  \n",
       "50%      8.560000    1.000000           0.72000  \n",
       "75%      9.040000    1.000000           0.82000  \n",
       "max      9.920000    1.000000           0.97000  "
      ],
      "text/html": [
       "<div>\n",
       "<style scoped>\n",
       "    .dataframe tbody tr th:only-of-type {\n",
       "        vertical-align: middle;\n",
       "    }\n",
       "\n",
       "    .dataframe tbody tr th {\n",
       "        vertical-align: top;\n",
       "    }\n",
       "\n",
       "    .dataframe thead th {\n",
       "        text-align: right;\n",
       "    }\n",
       "</style>\n",
       "<table border=\"1\" class=\"dataframe\">\n",
       "  <thead>\n",
       "    <tr style=\"text-align: right;\">\n",
       "      <th></th>\n",
       "      <th>GRE Score</th>\n",
       "      <th>TOEFL Score</th>\n",
       "      <th>University Rating</th>\n",
       "      <th>SOP</th>\n",
       "      <th>LOR</th>\n",
       "      <th>CGPA</th>\n",
       "      <th>Research</th>\n",
       "      <th>Chance of Admit</th>\n",
       "    </tr>\n",
       "  </thead>\n",
       "  <tbody>\n",
       "    <tr>\n",
       "      <th>count</th>\n",
       "      <td>500.000000</td>\n",
       "      <td>500.000000</td>\n",
       "      <td>500.000000</td>\n",
       "      <td>500.000000</td>\n",
       "      <td>500.00000</td>\n",
       "      <td>500.000000</td>\n",
       "      <td>500.000000</td>\n",
       "      <td>500.00000</td>\n",
       "    </tr>\n",
       "    <tr>\n",
       "      <th>mean</th>\n",
       "      <td>316.472000</td>\n",
       "      <td>107.192000</td>\n",
       "      <td>3.114000</td>\n",
       "      <td>3.374000</td>\n",
       "      <td>3.48400</td>\n",
       "      <td>8.576440</td>\n",
       "      <td>0.560000</td>\n",
       "      <td>0.72174</td>\n",
       "    </tr>\n",
       "    <tr>\n",
       "      <th>std</th>\n",
       "      <td>11.295148</td>\n",
       "      <td>6.081868</td>\n",
       "      <td>1.143512</td>\n",
       "      <td>0.991004</td>\n",
       "      <td>0.92545</td>\n",
       "      <td>0.604813</td>\n",
       "      <td>0.496884</td>\n",
       "      <td>0.14114</td>\n",
       "    </tr>\n",
       "    <tr>\n",
       "      <th>min</th>\n",
       "      <td>290.000000</td>\n",
       "      <td>92.000000</td>\n",
       "      <td>1.000000</td>\n",
       "      <td>1.000000</td>\n",
       "      <td>1.00000</td>\n",
       "      <td>6.800000</td>\n",
       "      <td>0.000000</td>\n",
       "      <td>0.34000</td>\n",
       "    </tr>\n",
       "    <tr>\n",
       "      <th>25%</th>\n",
       "      <td>308.000000</td>\n",
       "      <td>103.000000</td>\n",
       "      <td>2.000000</td>\n",
       "      <td>2.500000</td>\n",
       "      <td>3.00000</td>\n",
       "      <td>8.127500</td>\n",
       "      <td>0.000000</td>\n",
       "      <td>0.63000</td>\n",
       "    </tr>\n",
       "    <tr>\n",
       "      <th>50%</th>\n",
       "      <td>317.000000</td>\n",
       "      <td>107.000000</td>\n",
       "      <td>3.000000</td>\n",
       "      <td>3.500000</td>\n",
       "      <td>3.50000</td>\n",
       "      <td>8.560000</td>\n",
       "      <td>1.000000</td>\n",
       "      <td>0.72000</td>\n",
       "    </tr>\n",
       "    <tr>\n",
       "      <th>75%</th>\n",
       "      <td>325.000000</td>\n",
       "      <td>112.000000</td>\n",
       "      <td>4.000000</td>\n",
       "      <td>4.000000</td>\n",
       "      <td>4.00000</td>\n",
       "      <td>9.040000</td>\n",
       "      <td>1.000000</td>\n",
       "      <td>0.82000</td>\n",
       "    </tr>\n",
       "    <tr>\n",
       "      <th>max</th>\n",
       "      <td>340.000000</td>\n",
       "      <td>120.000000</td>\n",
       "      <td>5.000000</td>\n",
       "      <td>5.000000</td>\n",
       "      <td>5.00000</td>\n",
       "      <td>9.920000</td>\n",
       "      <td>1.000000</td>\n",
       "      <td>0.97000</td>\n",
       "    </tr>\n",
       "  </tbody>\n",
       "</table>\n",
       "</div>"
      ]
     },
     "execution_count": 5,
     "metadata": {},
     "output_type": "execute_result"
    }
   ],
   "execution_count": 5
  },
  {
   "metadata": {
    "ExecuteTime": {
     "end_time": "2025-08-19T17:14:59.308952Z",
     "start_time": "2025-08-19T17:14:59.109431Z"
    }
   },
   "cell_type": "code",
   "source": [
    "import pandas as pd\n",
    "from sklearn.model_selection import train_test_split\n",
    "from sklearn.ensemble import RandomForestRegressor\n",
    "from sklearn.metrics import mean_squared_error, r2_score\n",
    "\n",
    "# Example: df with all numerical columns\n",
    "# Target = percentage column\n",
    "X = df.drop(columns=[\"Chance of Admit \"])   # predictors\n",
    "y = df[\"Chance of Admit \"]                  # regression target\n",
    "\n",
    "# Train-test split\n",
    "X_train, X_test, y_train, y_test = train_test_split(\n",
    "    X, y, test_size=0.2, random_state=42\n",
    ")\n",
    "\n",
    "# Regression model\n",
    "reg = RandomForestRegressor(n_estimators=200, random_state=42)\n",
    "reg.fit(X_train, y_train)\n",
    "\n",
    "# Predictions\n",
    "y_pred = reg.predict(X_test)\n",
    "\n",
    "# Evaluation metrics\n",
    "print(\"Mean Squared Error (MSE):\", mean_squared_error(y_test, y_pred))\n",
    "print(\"R² Score:\", r2_score(y_test, y_pred))\n"
   ],
   "id": "2c68bec769669a12",
   "outputs": [
    {
     "name": "stdout",
     "output_type": "stream",
     "text": [
      "Mean Squared Error (MSE): 0.0042817676500000006\n",
      "R² Score: 0.790622608801956\n"
     ]
    }
   ],
   "execution_count": 7
  },
  {
   "metadata": {
    "ExecuteTime": {
     "end_time": "2025-08-19T17:15:36.318185Z",
     "start_time": "2025-08-19T17:15:36.308023Z"
    }
   },
   "cell_type": "code",
   "source": [
    "from sklearn.metrics import mean_absolute_error\n",
    "print(\"Mean Absolute Error (MAE):\", mean_absolute_error(y_test, y_pred))\n"
   ],
   "id": "7d45c68281c7983",
   "outputs": [
    {
     "name": "stdout",
     "output_type": "stream",
     "text": [
      "Mean Absolute Error (MAE): 0.043774999999999877\n"
     ]
    }
   ],
   "execution_count": 8
  },
  {
   "metadata": {
    "ExecuteTime": {
     "end_time": "2025-08-19T17:16:12.036525Z",
     "start_time": "2025-08-19T17:16:11.796162Z"
    }
   },
   "cell_type": "code",
   "source": [
    "import matplotlib.pyplot as plt\n",
    "\n",
    "importances = reg.feature_importances_\n",
    "feat_names = X.columns\n",
    "\n",
    "sorted_idx = importances.argsort()\n",
    "\n",
    "plt.barh(feat_names[sorted_idx], importances[sorted_idx])\n",
    "plt.xlabel(\"Feature Importance\")\n",
    "plt.title(\"Random Forest - Feature Importances\")\n",
    "plt.show()\n"
   ],
   "id": "9565990e34e0b677",
   "outputs": [
    {
     "data": {
      "text/plain": [
       "<Figure size 640x480 with 1 Axes>"
      ],
      "image/png": "[encoded data removed]"
     },
     "metadata": {},
     "output_type": "display_data"
    }
   ],
   "execution_count": 9
  },
  {
   "metadata": {
    "ExecuteTime": {
     "end_time": "2025-08-19T17:16:47.641382Z",
     "start_time": "2025-08-19T17:16:47.323401Z"
    }
   },
   "cell_type": "code",
   "source": [
    "import numpy as np\n",
    "import pandas as pd\n",
    "from sklearn.model_selection import train_test_split\n",
    "from sklearn.metrics import mean_squared_error, r2_score\n",
    "\n",
    "# Models\n",
    "from sklearn.linear_model import LinearRegression\n",
    "from sklearn.ensemble import RandomForestRegressor, GradientBoostingRegressor\n",
    "from sklearn.neural_network import MLPRegressor\n",
    "\n",
    "# Assuming you already have X, y defined\n",
    "X_train, X_test, y_train, y_test = train_test_split(X, y, test_size=0.2, random_state=42)\n",
    "\n",
    "models = {\n",
    "    \"Linear Regression\": LinearRegression(),\n",
    "    \"Random Forest\": RandomForestRegressor(random_state=42),\n",
    "    \"Gradient Boosting\": GradientBoostingRegressor(random_state=42),\n",
    "    \"Neural Net (MLP)\": MLPRegressor(hidden_layer_sizes=(64,32), max_iter=1000, random_state=42)\n",
    "}\n",
    "\n",
    "results = {}\n",
    "\n",
    "for name, model in models.items():\n",
    "    model.fit(X_train, y_train)\n",
    "    y_pred = model.predict(X_test)\n",
    "    \n",
    "    mse = mean_squared_error(y_test, y_pred)\n",
    "    r2 = r2_score(y_test, y_pred)\n",
    "    \n",
    "    results[name] = {\"MSE\": mse, \"R²\": r2}\n",
    "\n",
    "results_df = pd.DataFrame(results).T\n",
    "print(results_df)\n"
   ],
   "id": "3ca6890a85a14f69",
   "outputs": [
    {
     "name": "stdout",
     "output_type": "stream",
     "text": [
      "                        MSE        R²\n",
      "Linear Regression  0.003705  0.818843\n",
      "Random Forest      0.004346  0.787504\n",
      "Gradient Boosting  0.004462  0.781815\n",
      "Neural Net (MLP)   0.028744 -0.405567\n"
     ]
    }
   ],
   "execution_count": 10
  },
  {
   "metadata": {
    "ExecuteTime": {
     "end_time": "2025-08-19T17:18:10.001213Z",
     "start_time": "2025-08-19T17:18:09.930309Z"
    }
   },
   "cell_type": "code",
   "source": [
    "from sklearn.linear_model import Ridge, Lasso\n",
    "from sklearn.preprocessing import PolynomialFeatures\n",
    "from sklearn.pipeline import make_pipeline\n",
    "\n",
    "# Ridge Regression\n",
    "ridge = Ridge(alpha=1.0, random_state=42)\n",
    "ridge.fit(X_train, y_train)\n",
    "y_pred_ridge = ridge.predict(X_test)\n",
    "results[\"Ridge Regression\"] = [\n",
    "    mean_squared_error(y_test, y_pred_ridge),\n",
    "    r2_score(y_test, y_pred_ridge)\n",
    "]\n",
    "\n",
    "# Lasso Regression\n",
    "lasso = Lasso(alpha=0.001, max_iter=10000, random_state=42)\n",
    "lasso.fit(X_train, y_train)\n",
    "y_pred_lasso = lasso.predict(X_test)\n",
    "results[\"Lasso Regression\"] = [\n",
    "    mean_squared_error(y_test, y_pred_lasso),\n",
    "    r2_score(y_test, y_pred_lasso)\n",
    "]\n",
    "\n",
    "# Polynomial Regression (degree=2)\n",
    "poly_model = make_pipeline(PolynomialFeatures(degree=2, include_bias=False), LinearRegression())\n",
    "poly_model.fit(X_train, y_train)\n",
    "y_pred_poly = poly_model.predict(X_test)\n",
    "results[\"Polynomial Regression (deg=2)\"] = [\n",
    "    mean_squared_error(y_test, y_pred_poly),\n",
    "    r2_score(y_test, y_pred_poly)\n",
    "]\n",
    "\n",
    "# Show updated results\n",
    "results_df = pd.DataFrame(results, index=[\"MSE\", \"R²\"]).T\n",
    "print(results_df)\n"
   ],
   "id": "11d99d42e657fef6",
   "outputs": [
    {
     "name": "stdout",
     "output_type": "stream",
     "text": [
      "                                    MSE        R²\n",
      "Linear Regression              0.003705  0.818843\n",
      "Random Forest                  0.004346  0.787504\n",
      "Gradient Boosting              0.004462  0.781815\n",
      "Neural Net (MLP)               0.028744 -0.405567\n",
      "Ridge Regression               0.003722  0.817979\n",
      "Lasso Regression               0.003807  0.813824\n",
      "Polynomial Regression (deg=2)  0.003548  0.826512\n"
     ]
    }
   ],
   "execution_count": 12
  },
  {
   "metadata": {
    "ExecuteTime": {
     "end_time": "2025-08-19T17:19:54.984168Z",
     "start_time": "2025-08-19T17:19:47.504551Z"
    }
   },
   "cell_type": "code",
   "source": [
    "from sklearn.model_selection import GridSearchCV, cross_val_score\n",
    "from sklearn.ensemble import RandomForestRegressor, GradientBoostingRegressor\n",
    "from sklearn.neural_network import MLPRegressor\n",
    "from sklearn.preprocessing import PolynomialFeatures\n",
    "from sklearn.pipeline import Pipeline\n",
    "from sklearn.linear_model import LinearRegression\n",
    "import numpy as np\n",
    "\n",
    "# --- Random Forest ---\n",
    "rf = RandomForestRegressor(random_state=42)\n",
    "rf_params = {\n",
    "    'n_estimators': [100, 200, 300],\n",
    "    'max_depth': [None, 5, 10],\n",
    "    'min_samples_split': [2, 5, 10]\n",
    "}\n",
    "rf_grid = GridSearchCV(rf, rf_params, cv=5, scoring='r2', n_jobs=-1)\n",
    "rf_grid.fit(X_train, y_train)\n",
    "print(\"Best RF Params:\", rf_grid.best_params_)\n",
    "print(\"RF Best R²:\", rf_grid.best_score_)\n",
    "\n",
    "# --- Gradient Boosting ---\n",
    "gb = GradientBoostingRegressor(random_state=42)\n",
    "gb_params = {\n",
    "    'n_estimators': [100, 200],\n",
    "    'learning_rate': [0.01, 0.05, 0.1],\n",
    "    'max_depth': [3, 5]\n",
    "}\n",
    "gb_grid = GridSearchCV(gb, gb_params, cv=5, scoring='r2', n_jobs=-1)\n",
    "gb_grid.fit(X_train, y_train)\n",
    "print(\"Best GB Params:\", gb_grid.best_params_)\n",
    "print(\"GB Best R²:\", gb_grid.best_score_)\n",
    "\n",
    "# --- Neural Net (MLP) ---\n",
    "mlp = MLPRegressor(max_iter=2000, random_state=42)\n",
    "mlp_params = {\n",
    "    'hidden_layer_sizes': [(50,), (100,), (50,50)],\n",
    "    'activation': ['relu', 'tanh'],\n",
    "    'alpha': [0.0001, 0.001, 0.01]\n",
    "}\n",
    "mlp_grid = GridSearchCV(mlp, mlp_params, cv=5, scoring='r2', n_jobs=-1)\n",
    "mlp_grid.fit(X_train, y_train)\n",
    "print(\"Best MLP Params:\", mlp_grid.best_params_)\n",
    "print(\"MLP Best R²:\", mlp_grid.best_score_)\n",
    "\n",
    "# --- Polynomial Regression (deg=3) with CV ---\n",
    "poly3 = Pipeline([\n",
    "    (\"poly\", PolynomialFeatures(degree=3)),\n",
    "    (\"linreg\", LinearRegression())\n",
    "])\n",
    "scores = cross_val_score(poly3, X_train, y_train, cv=5, scoring='r2')\n",
    "print(\"Polynomial (deg=3) CV R²:\", np.mean(scores))\n"
   ],
   "id": "dee1aef2c25c4483",
   "outputs": [
    {
     "name": "stdout",
     "output_type": "stream",
     "text": [
      "Best RF Params: {'max_depth': 5, 'min_samples_split': 5, 'n_estimators': 300}\n",
      "RF Best R²: 0.785507579108171\n",
      "Best GB Params: {'learning_rate': 0.05, 'max_depth': 3, 'n_estimators': 100}\n",
      "GB Best R²: 0.7821250094587539\n",
      "Best MLP Params: {'activation': 'tanh', 'alpha': 0.01, 'hidden_layer_sizes': (100,)}\n",
      "MLP Best R²: 0.5841940253446375\n",
      "Polynomial (deg=3) CV R²: 0.5090655299166151\n"
     ]
    }
   ],
   "execution_count": 13
  },
  {
   "metadata": {},
   "cell_type": "code",
   "outputs": [],
   "execution_count": null,
   "source": "",
   "id": "d51d77e7770ff177"
  }
 ],
 "metadata": {
  "kernelspec": {
   "display_name": "Python 3",
   "language": "python",
   "name": "python3"
  },
  "language_info": {
   "codemirror_mode": {
    "name": "ipython",
    "version": 2
   },
   "file_extension": ".py",
   "mimetype": "text/x-python",
   "name": "python",
   "nbconvert_exporter": "python",
   "pygments_lexer": "ipython2",
   "version": "2.7.6"
  }
 },
 "nbformat": 4,
 "nbformat_minor": 5
}
